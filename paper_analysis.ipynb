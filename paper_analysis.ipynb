{
 "cells": [
  {
   "cell_type": "code",
   "execution_count": 1,
   "id": "472598d7-1038-4bc3-bbcb-716ced872a41",
   "metadata": {},
   "outputs": [],
   "source": [
    "# !pip install pyResearchInsights"
   ]
  },
  {
   "cell_type": "code",
   "execution_count": 2,
   "id": "e1c472ea-1abc-41c9-99b4-0e500c0ba05b",
   "metadata": {},
   "outputs": [],
   "source": [
    "# from pyResearchInsights.Cleaner import cleaner_main"
   ]
  },
  {
   "cell_type": "code",
   "execution_count": 3,
   "id": "521147ce-d0c9-4ed3-b829-a0f1634598a9",
   "metadata": {},
   "outputs": [],
   "source": [
    "# '''Importing the cleaner_main() to clean the txt file of abstracts'''\n",
    "\n",
    "\n",
    "# '''The location of the file to be cleaned is mentioned here'''\n",
    "# abstracts_log_name = \"/location/to/txt/file/to/be/cleaned\"\n",
    "\n",
    "# '''status_logger() logs the seequence of functions executed during the code run'''\n",
    "# status_logger_name = \"Status_Logger_Name\"\n",
    "\n",
    "# '''Calling the cleaner_main() here to clean the text file provided'''\n",
    "# cleaner_main(abstracts_log_name, status_logger_name)"
   ]
  },
  {
   "cell_type": "code",
   "execution_count": 4,
   "id": "29e4105c-135f-4d07-b04a-450ea0179886",
   "metadata": {},
   "outputs": [],
   "source": [
    "# !pip install textract\n",
    "# import textract"
   ]
  },
  {
   "cell_type": "code",
   "execution_count": 11,
   "id": "0ceb2d4d-00a1-48c1-a48f-81ed70d6a524",
   "metadata": {
    "tags": []
   },
   "outputs": [
    {
     "name": "stdout",
     "output_type": "stream",
     "text": [
      "Requirement already satisfied: PyPDF2 in /Users/abhinavralhan/.pyenv/versions/3.8.12/lib/python3.8/site-packages (3.0.1)\n",
      "Requirement already satisfied: typing_extensions>=3.10.0.0 in /Users/abhinavralhan/.pyenv/versions/3.8.12/lib/python3.8/site-packages (from PyPDF2) (4.3.0)\n",
      "\u001b[33mWARNING: You are using pip version 21.1.1; however, version 23.0.1 is available.\n",
      "You should consider upgrading via the '/Users/abhinavralhan/.pyenv/versions/3.8.12/bin/python3.8 -m pip install --upgrade pip' command.\u001b[0m\n"
     ]
    }
   ],
   "source": [
    "!pip install PyPDF2 --user"
   ]
  },
  {
   "cell_type": "code",
   "execution_count": 5,
   "id": "65b4bcd2-11ce-4a0a-9d33-94e202526a61",
   "metadata": {},
   "outputs": [],
   "source": [
    "import pandas as pd\n",
    "import numpy as np\n",
    "import PyPDF2\n",
    "import re\n",
    "import os"
   ]
  },
  {
   "cell_type": "code",
   "execution_count": 28,
   "id": "a4bc66bf-5c5e-4aa5-b4f6-efbd12e0e7cd",
   "metadata": {},
   "outputs": [],
   "source": [
    "data = {}\n",
    "ctr=0\n",
    "for filename in os.scandir('papers'):\n",
    "    if filename.path.endswith(\".pdf\"):\n",
    "        ctr+=1"
   ]
  },
  {
   "cell_type": "code",
   "execution_count": 29,
   "id": "66b227d0-486e-493c-a488-05503ea419bc",
   "metadata": {},
   "outputs": [
    {
     "name": "stdout",
     "output_type": "stream",
     "text": [
      "Matches found: 72, pages: 10, Match/Page ratio: 7.2\n",
      "Matches found: 128, pages: 9, Match/Page ratio: 14.2222\n",
      "Matches found: 468, pages: 18, Match/Page ratio: 26.0\n",
      "Matches found: 113, pages: 10, Match/Page ratio: 11.3\n",
      "Matches found: 49, pages: 5, Match/Page ratio: 9.8\n",
      "Matches found: 466, pages: 12, Match/Page ratio: 38.8333\n",
      "Matches found: 361, pages: 8, Match/Page ratio: 45.125\n",
      "Matches found: 82, pages: 11, Match/Page ratio: 7.4545\n",
      "Matches found: 36, pages: 6, Match/Page ratio: 6.0\n",
      "Matches found: 96, pages: 6, Match/Page ratio: 16.0\n",
      "Matches found: 93, pages: 7, Match/Page ratio: 13.2857\n",
      "Matches found: 70, pages: 10, Match/Page ratio: 7.0\n",
      "Matches found: 364, pages: 11, Match/Page ratio: 33.0909\n",
      "Matches found: 117, pages: 10, Match/Page ratio: 11.7\n",
      "Matches found: 64, pages: 8, Match/Page ratio: 8.0\n",
      "Matches found: 137, pages: 6, Match/Page ratio: 22.8333\n",
      "Matches found: 129, pages: 10, Match/Page ratio: 12.9\n",
      "Matches found: 56, pages: 6, Match/Page ratio: 9.3333\n",
      "Matches found: 56, pages: 9, Match/Page ratio: 6.2222\n",
      "Matches found: 83, pages: 11, Match/Page ratio: 7.5455\n",
      "Matches found: 226, pages: 11, Match/Page ratio: 20.5455\n",
      "Matches found: 68, pages: 10, Match/Page ratio: 6.8\n",
      "Matches found: 17, pages: 2, Match/Page ratio: 8.5\n",
      "Matches found: 109, pages: 10, Match/Page ratio: 10.9\n",
      "Matches found: 102, pages: 11, Match/Page ratio: 9.2727\n",
      "Matches found: 94, pages: 11, Match/Page ratio: 8.5455\n",
      "Matches found: 70, pages: 11, Match/Page ratio: 6.3636\n",
      "Matches found: 149, pages: 19, Match/Page ratio: 7.8421\n",
      "Matches found: 282, pages: 9, Match/Page ratio: 31.3333\n",
      "Matches found: 74, pages: 8, Match/Page ratio: 9.25\n",
      "Matches found: 44, pages: 11, Match/Page ratio: 4.0\n",
      "Matches found: 79, pages: 10, Match/Page ratio: 7.9\n",
      "Matches found: 90, pages: 15, Match/Page ratio: 6.0\n",
      "Matches found: 228, pages: 11, Match/Page ratio: 20.7273\n",
      "Matches found: 86, pages: 12, Match/Page ratio: 7.1667\n",
      "Matches found: 106, pages: 10, Match/Page ratio: 10.6\n",
      "Matches found: 109, pages: 9, Match/Page ratio: 12.1111\n",
      "Matches found: 90, pages: 10, Match/Page ratio: 9.0\n",
      "Matches found: 101, pages: 9, Match/Page ratio: 11.2222\n",
      "Matches found: 140, pages: 9, Match/Page ratio: 15.5556\n",
      "Matches found: 106, pages: 10, Match/Page ratio: 10.6\n",
      "Matches found: 67, pages: 10, Match/Page ratio: 6.7\n",
      "Matches found: 107, pages: 6, Match/Page ratio: 17.8333\n",
      "Matches found: 26, pages: 2, Match/Page ratio: 13.0\n",
      "Matches found: 49, pages: 10, Match/Page ratio: 4.9\n",
      "Matches found: 49, pages: 10, Match/Page ratio: 4.9\n",
      "Matches found: 171, pages: 10, Match/Page ratio: 17.1\n",
      "Matches found: 95, pages: 10, Match/Page ratio: 9.5\n",
      "Matches found: 45, pages: 12, Match/Page ratio: 3.75\n",
      "Matches found: 82, pages: 4, Match/Page ratio: 20.5\n",
      "Matches found: 358, pages: 9, Match/Page ratio: 39.7778\n",
      "Matches found: 166, pages: 10, Match/Page ratio: 16.6\n",
      "Matches found: 91, pages: 12, Match/Page ratio: 7.5833\n",
      "Matches found: 81, pages: 10, Match/Page ratio: 8.1\n",
      "Matches found: 139, pages: 8, Match/Page ratio: 17.375\n",
      "Matches found: 99, pages: 12, Match/Page ratio: 8.25\n",
      "Matches found: 41, pages: 6, Match/Page ratio: 6.8333\n",
      "Matches found: 229, pages: 11, Match/Page ratio: 20.8182\n",
      "Matches found: 58, pages: 10, Match/Page ratio: 5.8\n",
      "Matches found: 67, pages: 9, Match/Page ratio: 7.4444\n",
      "Matches found: 47, pages: 10, Match/Page ratio: 4.7\n",
      "Matches found: 54, pages: 9, Match/Page ratio: 6.0\n",
      "Matches found: 20, pages: 2, Match/Page ratio: 10.0\n",
      "Matches found: 46, pages: 10, Match/Page ratio: 4.6\n",
      "Matches found: 97, pages: 11, Match/Page ratio: 8.8182\n",
      "Matches found: 27, pages: 2, Match/Page ratio: 13.5\n",
      "Matches found: 19, pages: 4, Match/Page ratio: 4.75\n",
      "Matches found: 30, pages: 6, Match/Page ratio: 5.0\n",
      "Matches found: 84, pages: 11, Match/Page ratio: 7.6364\n",
      "Matches found: 31, pages: 2, Match/Page ratio: 15.5\n",
      "Matches found: 43, pages: 4, Match/Page ratio: 10.75\n",
      "Matches found: 31, pages: 11, Match/Page ratio: 2.8182\n",
      "Matches found: 280, pages: 22, Match/Page ratio: 12.7273\n",
      "Matches found: 78, pages: 12, Match/Page ratio: 6.5\n",
      "Matches found: 87, pages: 10, Match/Page ratio: 8.7\n",
      "Matches found: 84, pages: 6, Match/Page ratio: 14.0\n",
      "Matches found: 49, pages: 10, Match/Page ratio: 4.9\n",
      "Matches found: 51, pages: 8, Match/Page ratio: 6.375\n",
      "Matches found: 120, pages: 11, Match/Page ratio: 10.9091\n",
      "Matches found: 80, pages: 10, Match/Page ratio: 8.0\n",
      "Matches found: 31, pages: 4, Match/Page ratio: 7.75\n",
      "Matches found: 41, pages: 4, Match/Page ratio: 10.25\n",
      "Matches found: 100, pages: 17, Match/Page ratio: 5.8824\n",
      "Matches found: 78, pages: 10, Match/Page ratio: 7.8\n",
      "Matches found: 77, pages: 4, Match/Page ratio: 19.25\n",
      "Matches found: 47, pages: 6, Match/Page ratio: 7.8333\n",
      "Matches found: 889, pages: 66, Match/Page ratio: 13.4697\n",
      "Matches found: 36, pages: 10, Match/Page ratio: 3.6\n",
      "Matches found: 84, pages: 6, Match/Page ratio: 14.0\n",
      "Matches found: 46, pages: 10, Match/Page ratio: 4.6\n",
      "Matches found: 125, pages: 10, Match/Page ratio: 12.5\n",
      "Matches found: 41, pages: 2, Match/Page ratio: 20.5\n",
      "Matches found: 36, pages: 12, Match/Page ratio: 3.0\n",
      "Matches found: 26, pages: 4, Match/Page ratio: 6.5\n",
      "Matches found: 73, pages: 10, Match/Page ratio: 7.3\n",
      "Matches found: 117, pages: 6, Match/Page ratio: 19.5\n",
      "Matches found: 67, pages: 10, Match/Page ratio: 6.7\n",
      "Matches found: 73, pages: 10, Match/Page ratio: 7.3\n",
      "Matches found: 93, pages: 6, Match/Page ratio: 15.5\n",
      "Matches found: 32, pages: 4, Match/Page ratio: 8.0\n",
      "Matches found: 54, pages: 10, Match/Page ratio: 5.4\n",
      "Matches found: 106, pages: 10, Match/Page ratio: 10.6\n",
      "Matches found: 54, pages: 6, Match/Page ratio: 9.0\n",
      "Matches found: 99, pages: 12, Match/Page ratio: 8.25\n",
      "Matches found: 102, pages: 7, Match/Page ratio: 14.5714\n",
      "Matches found: 67, pages: 10, Match/Page ratio: 6.7\n",
      "Matches found: 111, pages: 8, Match/Page ratio: 13.875\n",
      "Matches found: 23, pages: 10, Match/Page ratio: 2.3\n",
      "Matches found: 147, pages: 11, Match/Page ratio: 13.3636\n",
      "Matches found: 103, pages: 12, Match/Page ratio: 8.5833\n",
      "Matches found: 45, pages: 6, Match/Page ratio: 7.5\n",
      "Matches found: 87, pages: 10, Match/Page ratio: 8.7\n",
      "Matches found: 67, pages: 10, Match/Page ratio: 6.7\n",
      "Matches found: 67, pages: 6, Match/Page ratio: 11.1667\n",
      "Matches found: 49, pages: 6, Match/Page ratio: 8.1667\n",
      "Matches found: 229, pages: 6, Match/Page ratio: 38.1667\n",
      "Matches found: 38, pages: 4, Match/Page ratio: 9.5\n",
      "Matches found: 40, pages: 6, Match/Page ratio: 6.6667\n",
      "Matches found: 112, pages: 4, Match/Page ratio: 28.0\n",
      "Matches found: 49, pages: 4, Match/Page ratio: 12.25\n",
      "Matches found: 97, pages: 10, Match/Page ratio: 9.7\n",
      "Matches found: 68, pages: 12, Match/Page ratio: 5.6667\n",
      "Matches found: 437, pages: 13, Match/Page ratio: 33.6154\n",
      "Matches found: 49, pages: 10, Match/Page ratio: 4.9\n",
      "Matches found: 112, pages: 10, Match/Page ratio: 11.2\n",
      "Matches found: 172, pages: 9, Match/Page ratio: 19.1111\n",
      "Matches found: 37, pages: 6, Match/Page ratio: 6.1667\n",
      "Matches found: 77, pages: 10, Match/Page ratio: 7.7\n",
      "Matches found: 103, pages: 10, Match/Page ratio: 10.3\n",
      "Matches found: 35, pages: 10, Match/Page ratio: 3.5\n"
     ]
    },
    {
     "name": "stderr",
     "output_type": "stream",
     "text": [
      "Multiple definitions in dictionary at byte 0x1bff5 for key /Type\n",
      "Multiple definitions in dictionary at byte 0x1c004 for key /Subtype\n",
      "Multiple definitions in dictionary at byte 0x1c026 for key /BBox\n",
      "Multiple definitions in dictionary at byte 0x1c073 for key /Resources\n"
     ]
    },
    {
     "name": "stdout",
     "output_type": "stream",
     "text": [
      "Matches found: 105, pages: 12, Match/Page ratio: 8.75\n",
      "Matches found: 29, pages: 6, Match/Page ratio: 4.8333\n",
      "Matches found: 66, pages: 10, Match/Page ratio: 6.6\n",
      "Matches found: 29, pages: 2, Match/Page ratio: 14.5\n",
      "Matches found: 87, pages: 12, Match/Page ratio: 7.25\n",
      "Matches found: 102, pages: 6, Match/Page ratio: 17.0\n",
      "Matches found: 62, pages: 6, Match/Page ratio: 10.3333\n",
      "Matches found: 54, pages: 2, Match/Page ratio: 27.0\n",
      "Matches found: 63, pages: 10, Match/Page ratio: 6.3\n",
      "Matches found: 51, pages: 10, Match/Page ratio: 5.1\n",
      "Matches found: 0, pages: 16, Match/Page ratio: 0.0\n",
      "Matches found: 32, pages: 4, Match/Page ratio: 8.0\n",
      "Matches found: 44, pages: 10, Match/Page ratio: 4.4\n",
      "Matches found: 27, pages: 2, Match/Page ratio: 13.5\n",
      "Matches found: 149, pages: 8, Match/Page ratio: 18.625\n",
      "Matches found: 135, pages: 11, Match/Page ratio: 12.2727\n",
      "Matches found: 80, pages: 10, Match/Page ratio: 8.0\n",
      "Matches found: 51, pages: 10, Match/Page ratio: 5.1\n",
      "Matches found: 122, pages: 11, Match/Page ratio: 11.0909\n",
      "Matches found: 58, pages: 10, Match/Page ratio: 5.8\n",
      "Matches found: 81, pages: 10, Match/Page ratio: 8.1\n",
      "Matches found: 142, pages: 5, Match/Page ratio: 28.4\n",
      "Matches found: 853, pages: 11, Match/Page ratio: 77.5455\n",
      "Matches found: 130, pages: 6, Match/Page ratio: 21.6667\n",
      "Matches found: 34, pages: 6, Match/Page ratio: 5.6667\n",
      "Matches found: 20, pages: 6, Match/Page ratio: 3.3333\n",
      "Matches found: 72, pages: 11, Match/Page ratio: 6.5455\n",
      "Matches found: 254, pages: 11, Match/Page ratio: 23.0909\n",
      "Matches found: 78, pages: 10, Match/Page ratio: 7.8\n",
      "Matches found: 55, pages: 10, Match/Page ratio: 5.5\n",
      "Matches found: 81, pages: 9, Match/Page ratio: 9.0\n",
      "Matches found: 49, pages: 10, Match/Page ratio: 4.9\n",
      "Matches found: 64, pages: 8, Match/Page ratio: 8.0\n",
      "Matches found: 50, pages: 10, Match/Page ratio: 5.0\n",
      "Matches found: 160, pages: 10, Match/Page ratio: 16.0\n",
      "Matches found: 630, pages: 18, Match/Page ratio: 35.0\n",
      "Matches found: 93, pages: 13, Match/Page ratio: 7.1538\n",
      "Matches found: 63, pages: 11, Match/Page ratio: 5.7273\n",
      "Matches found: 26, pages: 2, Match/Page ratio: 13.0\n",
      "Matches found: 68, pages: 6, Match/Page ratio: 11.3333\n",
      "Matches found: 39, pages: 6, Match/Page ratio: 6.5\n",
      "Matches found: 95, pages: 10, Match/Page ratio: 9.5\n",
      "Matches found: 92, pages: 10, Match/Page ratio: 9.2\n",
      "Matches found: 103, pages: 10, Match/Page ratio: 10.3\n",
      "Matches found: 80, pages: 10, Match/Page ratio: 8.0\n",
      "Matches found: 90, pages: 6, Match/Page ratio: 15.0\n",
      "Matches found: 40, pages: 2, Match/Page ratio: 20.0\n",
      "Matches found: 37, pages: 6, Match/Page ratio: 6.1667\n",
      "Matches found: 33, pages: 2, Match/Page ratio: 16.5\n",
      "Matches found: 92, pages: 10, Match/Page ratio: 9.2\n",
      "Matches found: 72, pages: 10, Match/Page ratio: 7.2\n",
      "Matches found: 67, pages: 12, Match/Page ratio: 5.5833\n",
      "Matches found: 86, pages: 10, Match/Page ratio: 8.6\n",
      "Matches found: 33, pages: 8, Match/Page ratio: 4.125\n",
      "Matches found: 62, pages: 11, Match/Page ratio: 5.6364\n",
      "Matches found: 152, pages: 12, Match/Page ratio: 12.6667\n",
      "Matches found: 104, pages: 6, Match/Page ratio: 17.3333\n",
      "Matches found: 95, pages: 6, Match/Page ratio: 15.8333\n"
     ]
    }
   ],
   "source": [
    "data = {}\n",
    "\n",
    "for filename in os.scandir('papers'):\n",
    "    if filename.path.endswith(\".pdf\"):\n",
    "\n",
    "        filename = filename.path\n",
    "\n",
    "        pdfFileObj = open(filename,'rb')               \n",
    "        pdfReader = PyPDF2.PdfReader(pdfFileObj)   \n",
    "        num_pages = pdfReader.pages.length_function()\n",
    "\n",
    "        count = 0\n",
    "        text = \"\"\n",
    "\n",
    "        while count < num_pages:                       \n",
    "            pageObj = pdfReader.pages.get_function(count)\n",
    "            count +=1\n",
    "            text += pageObj.extract_text()\n",
    "\n",
    "        text = text.encode('ascii','ignore').lower()\n",
    "        text_decoded = text.decode()\n",
    "        text = str(text).replace('\\r', ' ').replace('\\\\n', '')\n",
    "        keywords = re.findall(r'[a-zA-Z]\\w+', text)\n",
    "\n",
    "        keywords = ['general artificial intelligence', 'artificial intelligence', 'artificial general intelligence', \n",
    "                    'agi', 'ai', 'artificial', 'intelligence']\n",
    "\n",
    "        keyword_freq = 0\n",
    "        for keyword in keywords:\n",
    "            regex_test = re.compile(keyword)\n",
    "            search = regex_test.findall(text)\n",
    "            keyword_freq += len(search)\n",
    "            \n",
    "        development_keywords = ['development', 'design', 'architecture', 'cognitive', 'model', 'cognition',\n",
    "                               'paradigm', 'framework', 'brain']\n",
    "        \n",
    "        development_freq = 0\n",
    "        for keyword in development_keywords:\n",
    "            regex_test = re.compile(keyword)\n",
    "            search = regex_test.findall(text)\n",
    "            development_freq += len(search)\n",
    "        \n",
    "        implementation_keywords = ['programming', 'languages', 'hardware', 'neural', 'network', 'evaluation',\n",
    "                                   'test', 'strength', 'chip', 'algorithm', 'complexity', 'empirical', 'theoretical']\n",
    "        implementation_freq = 0\n",
    "        for keyword in implementation_keywords:\n",
    "            regex_test = re.compile(keyword)\n",
    "            search = regex_test.findall(text)\n",
    "            implementation_freq += len(search)\n",
    "            \n",
    "        challenges_keywords = ['limitation', 'challenge', 'infrastructure requirement', 'architecture requirement',\n",
    "                              'predictive', 'prompt', 'efficiency', 'compute power', 'motivation', 'management',\n",
    "                               'difficulty', 'awareness'\n",
    "                              ]\n",
    "        challenges_freq = 0\n",
    "        for keyword in challenges_keywords:\n",
    "            regex_test = re.compile(keyword)\n",
    "            search = regex_test.findall(text)\n",
    "            challenges_freq += len(search)\n",
    "        \n",
    "        risks_keywords = ['consciousness', 'self-aware', 'awareness', 'capabilities'\n",
    "                          'safety', 'safe', 'intent', 'rules', 'fears', 'existential',\n",
    "                         'fear', 'ethics', 'values']\n",
    "        risks_freq = 0\n",
    "        for keyword in risks_keywords:\n",
    "            regex_test = re.compile(keyword)\n",
    "            search = regex_test.findall(text)\n",
    "            risks_freq += len(search)\n",
    "            \n",
    "        data[filename.split('/')[1]] = {'keyword_freq':keyword_freq, 'development_freq':development_freq, 'implementation_freq':implementation_freq, 'challenges_freq':challenges_freq, 'risks_freq':risks_freq, 'pages': num_pages, \n",
    "                                        'keyword_to_page_ratio': round(keyword_freq / num_pages, 4), \n",
    "                                        'development_to_page_ratio': round(development_freq / num_pages, 4),\n",
    "                                        'implementation_to_page_ratio': round(implementation_freq / num_pages, 4),\n",
    "                                        'challenges_to_page_ratio': round(challenges_freq / num_pages, 4),\n",
    "                                        'risks_to_page_ratio': round(risks_freq / num_pages, 4)\n",
    "                                       }\n",
    "\n",
    "        print(f\"Matches found: {keyword_freq}, pages: {num_pages}, Match/Page ratio: {round(keyword_freq / num_pages, 4)}\")\n",
    "\n"
   ]
  },
  {
   "cell_type": "code",
   "execution_count": 30,
   "id": "7ce52ded-6e30-4152-bc49-3abc69dca343",
   "metadata": {},
   "outputs": [
    {
     "data": {
      "text/html": [
       "<div>\n",
       "<style scoped>\n",
       "    .dataframe tbody tr th:only-of-type {\n",
       "        vertical-align: middle;\n",
       "    }\n",
       "\n",
       "    .dataframe tbody tr th {\n",
       "        vertical-align: top;\n",
       "    }\n",
       "\n",
       "    .dataframe thead th {\n",
       "        text-align: right;\n",
       "    }\n",
       "</style>\n",
       "<table border=\"1\" class=\"dataframe\">\n",
       "  <thead>\n",
       "    <tr style=\"text-align: right;\">\n",
       "      <th></th>\n",
       "      <th>keyword_freq</th>\n",
       "      <th>development_freq</th>\n",
       "      <th>implementation_freq</th>\n",
       "      <th>challenges_freq</th>\n",
       "      <th>risks_freq</th>\n",
       "      <th>pages</th>\n",
       "      <th>keyword_to_page_ratio</th>\n",
       "      <th>development_to_page_ratio</th>\n",
       "      <th>implementation_to_page_ratio</th>\n",
       "      <th>challenges_to_page_ratio</th>\n",
       "      <th>risks_to_page_ratio</th>\n",
       "    </tr>\n",
       "  </thead>\n",
       "  <tbody>\n",
       "    <tr>\n",
       "      <th>AGI_society.pdf</th>\n",
       "      <td>853.0</td>\n",
       "      <td>132.0</td>\n",
       "      <td>41.0</td>\n",
       "      <td>12.0</td>\n",
       "      <td>51.0</td>\n",
       "      <td>11.0</td>\n",
       "      <td>77.5455</td>\n",
       "      <td>12.0000</td>\n",
       "      <td>3.7273</td>\n",
       "      <td>1.0909</td>\n",
       "      <td>4.6364</td>\n",
       "    </tr>\n",
       "    <tr>\n",
       "      <th>AGI_ethics2.pdf</th>\n",
       "      <td>361.0</td>\n",
       "      <td>66.0</td>\n",
       "      <td>128.0</td>\n",
       "      <td>12.0</td>\n",
       "      <td>28.0</td>\n",
       "      <td>8.0</td>\n",
       "      <td>45.1250</td>\n",
       "      <td>8.2500</td>\n",
       "      <td>16.0000</td>\n",
       "      <td>1.5000</td>\n",
       "      <td>3.5000</td>\n",
       "    </tr>\n",
       "    <tr>\n",
       "      <th>AGI_research3.pdf</th>\n",
       "      <td>358.0</td>\n",
       "      <td>296.0</td>\n",
       "      <td>97.0</td>\n",
       "      <td>20.0</td>\n",
       "      <td>7.0</td>\n",
       "      <td>9.0</td>\n",
       "      <td>39.7778</td>\n",
       "      <td>32.8889</td>\n",
       "      <td>10.7778</td>\n",
       "      <td>2.2222</td>\n",
       "      <td>0.7778</td>\n",
       "    </tr>\n",
       "    <tr>\n",
       "      <th>AGI_ethics3.pdf</th>\n",
       "      <td>466.0</td>\n",
       "      <td>47.0</td>\n",
       "      <td>17.0</td>\n",
       "      <td>50.0</td>\n",
       "      <td>10.0</td>\n",
       "      <td>12.0</td>\n",
       "      <td>38.8333</td>\n",
       "      <td>3.9167</td>\n",
       "      <td>1.4167</td>\n",
       "      <td>4.1667</td>\n",
       "      <td>0.8333</td>\n",
       "    </tr>\n",
       "    <tr>\n",
       "      <th>AGI_research41.pdf</th>\n",
       "      <td>229.0</td>\n",
       "      <td>61.0</td>\n",
       "      <td>93.0</td>\n",
       "      <td>6.0</td>\n",
       "      <td>2.0</td>\n",
       "      <td>6.0</td>\n",
       "      <td>38.1667</td>\n",
       "      <td>10.1667</td>\n",
       "      <td>15.5000</td>\n",
       "      <td>1.0000</td>\n",
       "      <td>0.3333</td>\n",
       "    </tr>\n",
       "    <tr>\n",
       "      <th>...</th>\n",
       "      <td>...</td>\n",
       "      <td>...</td>\n",
       "      <td>...</td>\n",
       "      <td>...</td>\n",
       "      <td>...</td>\n",
       "      <td>...</td>\n",
       "      <td>...</td>\n",
       "      <td>...</td>\n",
       "      <td>...</td>\n",
       "      <td>...</td>\n",
       "      <td>...</td>\n",
       "    </tr>\n",
       "    <tr>\n",
       "      <th>paper_35.pdf</th>\n",
       "      <td>20.0</td>\n",
       "      <td>9.0</td>\n",
       "      <td>3.0</td>\n",
       "      <td>1.0</td>\n",
       "      <td>7.0</td>\n",
       "      <td>6.0</td>\n",
       "      <td>3.3333</td>\n",
       "      <td>1.5000</td>\n",
       "      <td>0.5000</td>\n",
       "      <td>0.1667</td>\n",
       "      <td>1.1667</td>\n",
       "    </tr>\n",
       "    <tr>\n",
       "      <th>978-3-319-09274-4_14.pdf</th>\n",
       "      <td>36.0</td>\n",
       "      <td>94.0</td>\n",
       "      <td>15.0</td>\n",
       "      <td>2.0</td>\n",
       "      <td>36.0</td>\n",
       "      <td>12.0</td>\n",
       "      <td>3.0000</td>\n",
       "      <td>7.8333</td>\n",
       "      <td>1.2500</td>\n",
       "      <td>0.1667</td>\n",
       "      <td>3.0000</td>\n",
       "    </tr>\n",
       "    <tr>\n",
       "      <th>AGI_research49.pdf</th>\n",
       "      <td>31.0</td>\n",
       "      <td>28.0</td>\n",
       "      <td>20.0</td>\n",
       "      <td>3.0</td>\n",
       "      <td>0.0</td>\n",
       "      <td>11.0</td>\n",
       "      <td>2.8182</td>\n",
       "      <td>2.5455</td>\n",
       "      <td>1.8182</td>\n",
       "      <td>0.2727</td>\n",
       "      <td>0.0000</td>\n",
       "    </tr>\n",
       "    <tr>\n",
       "      <th>paper_69.pdf</th>\n",
       "      <td>23.0</td>\n",
       "      <td>67.0</td>\n",
       "      <td>15.0</td>\n",
       "      <td>5.0</td>\n",
       "      <td>3.0</td>\n",
       "      <td>10.0</td>\n",
       "      <td>2.3000</td>\n",
       "      <td>6.7000</td>\n",
       "      <td>1.5000</td>\n",
       "      <td>0.5000</td>\n",
       "      <td>0.3000</td>\n",
       "    </tr>\n",
       "    <tr>\n",
       "      <th>Elsevier Enhanced Reader.pdf</th>\n",
       "      <td>0.0</td>\n",
       "      <td>0.0</td>\n",
       "      <td>0.0</td>\n",
       "      <td>0.0</td>\n",
       "      <td>0.0</td>\n",
       "      <td>16.0</td>\n",
       "      <td>0.0000</td>\n",
       "      <td>0.0000</td>\n",
       "      <td>0.0000</td>\n",
       "      <td>0.0000</td>\n",
       "      <td>0.0000</td>\n",
       "    </tr>\n",
       "  </tbody>\n",
       "</table>\n",
       "<p>188 rows × 11 columns</p>\n",
       "</div>"
      ],
      "text/plain": [
       "                              keyword_freq  development_freq  \\\n",
       "AGI_society.pdf                      853.0             132.0   \n",
       "AGI_ethics2.pdf                      361.0              66.0   \n",
       "AGI_research3.pdf                    358.0             296.0   \n",
       "AGI_ethics3.pdf                      466.0              47.0   \n",
       "AGI_research41.pdf                   229.0              61.0   \n",
       "...                                    ...               ...   \n",
       "paper_35.pdf                          20.0               9.0   \n",
       "978-3-319-09274-4_14.pdf              36.0              94.0   \n",
       "AGI_research49.pdf                    31.0              28.0   \n",
       "paper_69.pdf                          23.0              67.0   \n",
       "Elsevier Enhanced Reader.pdf           0.0               0.0   \n",
       "\n",
       "                              implementation_freq  challenges_freq  \\\n",
       "AGI_society.pdf                              41.0             12.0   \n",
       "AGI_ethics2.pdf                             128.0             12.0   \n",
       "AGI_research3.pdf                            97.0             20.0   \n",
       "AGI_ethics3.pdf                              17.0             50.0   \n",
       "AGI_research41.pdf                           93.0              6.0   \n",
       "...                                           ...              ...   \n",
       "paper_35.pdf                                  3.0              1.0   \n",
       "978-3-319-09274-4_14.pdf                     15.0              2.0   \n",
       "AGI_research49.pdf                           20.0              3.0   \n",
       "paper_69.pdf                                 15.0              5.0   \n",
       "Elsevier Enhanced Reader.pdf                  0.0              0.0   \n",
       "\n",
       "                              risks_freq  pages  keyword_to_page_ratio  \\\n",
       "AGI_society.pdf                     51.0   11.0                77.5455   \n",
       "AGI_ethics2.pdf                     28.0    8.0                45.1250   \n",
       "AGI_research3.pdf                    7.0    9.0                39.7778   \n",
       "AGI_ethics3.pdf                     10.0   12.0                38.8333   \n",
       "AGI_research41.pdf                   2.0    6.0                38.1667   \n",
       "...                                  ...    ...                    ...   \n",
       "paper_35.pdf                         7.0    6.0                 3.3333   \n",
       "978-3-319-09274-4_14.pdf            36.0   12.0                 3.0000   \n",
       "AGI_research49.pdf                   0.0   11.0                 2.8182   \n",
       "paper_69.pdf                         3.0   10.0                 2.3000   \n",
       "Elsevier Enhanced Reader.pdf         0.0   16.0                 0.0000   \n",
       "\n",
       "                              development_to_page_ratio  \\\n",
       "AGI_society.pdf                                 12.0000   \n",
       "AGI_ethics2.pdf                                  8.2500   \n",
       "AGI_research3.pdf                               32.8889   \n",
       "AGI_ethics3.pdf                                  3.9167   \n",
       "AGI_research41.pdf                              10.1667   \n",
       "...                                                 ...   \n",
       "paper_35.pdf                                     1.5000   \n",
       "978-3-319-09274-4_14.pdf                         7.8333   \n",
       "AGI_research49.pdf                               2.5455   \n",
       "paper_69.pdf                                     6.7000   \n",
       "Elsevier Enhanced Reader.pdf                     0.0000   \n",
       "\n",
       "                              implementation_to_page_ratio  \\\n",
       "AGI_society.pdf                                     3.7273   \n",
       "AGI_ethics2.pdf                                    16.0000   \n",
       "AGI_research3.pdf                                  10.7778   \n",
       "AGI_ethics3.pdf                                     1.4167   \n",
       "AGI_research41.pdf                                 15.5000   \n",
       "...                                                    ...   \n",
       "paper_35.pdf                                        0.5000   \n",
       "978-3-319-09274-4_14.pdf                            1.2500   \n",
       "AGI_research49.pdf                                  1.8182   \n",
       "paper_69.pdf                                        1.5000   \n",
       "Elsevier Enhanced Reader.pdf                        0.0000   \n",
       "\n",
       "                              challenges_to_page_ratio  risks_to_page_ratio  \n",
       "AGI_society.pdf                                 1.0909               4.6364  \n",
       "AGI_ethics2.pdf                                 1.5000               3.5000  \n",
       "AGI_research3.pdf                               2.2222               0.7778  \n",
       "AGI_ethics3.pdf                                 4.1667               0.8333  \n",
       "AGI_research41.pdf                              1.0000               0.3333  \n",
       "...                                                ...                  ...  \n",
       "paper_35.pdf                                    0.1667               1.1667  \n",
       "978-3-319-09274-4_14.pdf                        0.1667               3.0000  \n",
       "AGI_research49.pdf                              0.2727               0.0000  \n",
       "paper_69.pdf                                    0.5000               0.3000  \n",
       "Elsevier Enhanced Reader.pdf                    0.0000               0.0000  \n",
       "\n",
       "[188 rows x 11 columns]"
      ]
     },
     "execution_count": 30,
     "metadata": {},
     "output_type": "execute_result"
    }
   ],
   "source": [
    "df = pd.DataFrame(data).T\n",
    "df.sort_values('keyword_to_page_ratio', ascending=False)"
   ]
  },
  {
   "cell_type": "code",
   "execution_count": 31,
   "id": "1f91c334-36a3-48e6-ba42-35c0a5f25cab",
   "metadata": {},
   "outputs": [
    {
     "data": {
      "text/plain": [
       "188"
      ]
     },
     "execution_count": 31,
     "metadata": {},
     "output_type": "execute_result"
    }
   ],
   "source": [
    "len(df)"
   ]
  },
  {
   "cell_type": "code",
   "execution_count": 32,
   "id": "aedf3e2f-35f6-4672-8a44-9a4c154f90a1",
   "metadata": {},
   "outputs": [
    {
     "data": {
      "text/plain": [
       "Index(['keyword_freq', 'development_freq', 'implementation_freq',\n",
       "       'challenges_freq', 'risks_freq', 'pages', 'keyword_to_page_ratio',\n",
       "       'development_to_page_ratio', 'implementation_to_page_ratio',\n",
       "       'challenges_to_page_ratio', 'risks_to_page_ratio'],\n",
       "      dtype='object')"
      ]
     },
     "execution_count": 32,
     "metadata": {},
     "output_type": "execute_result"
    }
   ],
   "source": [
    "df.columns"
   ]
  },
  {
   "cell_type": "code",
   "execution_count": 33,
   "id": "6726e93a-aa20-4f42-995c-16d2e3d92b5e",
   "metadata": {},
   "outputs": [
    {
     "data": {
      "text/plain": [
       "(9.095744680851064, 10.0)"
      ]
     },
     "execution_count": 33,
     "metadata": {},
     "output_type": "execute_result"
    }
   ],
   "source": [
    "df.pages.mean(), df.pages.median()"
   ]
  },
  {
   "cell_type": "code",
   "execution_count": 34,
   "id": "7927deca-9409-4cfb-a162-88470ded0404",
   "metadata": {},
   "outputs": [
    {
     "data": {
      "text/plain": [
       "keyword_to_page_ratio           11.585901\n",
       "development_to_page_ratio        6.088200\n",
       "implementation_to_page_ratio     3.952493\n",
       "challenges_to_page_ratio         0.570663\n",
       "risks_to_page_ratio              1.236123\n",
       "dtype: float64"
      ]
     },
     "execution_count": 34,
     "metadata": {},
     "output_type": "execute_result"
    }
   ],
   "source": [
    "df[['keyword_to_page_ratio', 'development_to_page_ratio', 'implementation_to_page_ratio',\n",
    "       'challenges_to_page_ratio', 'risks_to_page_ratio']].mean()"
   ]
  },
  {
   "cell_type": "code",
   "execution_count": 35,
   "id": "97272e13-ce86-4d5e-b1c7-6882d2025521",
   "metadata": {},
   "outputs": [
    {
     "data": {
      "text/html": [
       "<div>\n",
       "<style scoped>\n",
       "    .dataframe tbody tr th:only-of-type {\n",
       "        vertical-align: middle;\n",
       "    }\n",
       "\n",
       "    .dataframe tbody tr th {\n",
       "        vertical-align: top;\n",
       "    }\n",
       "\n",
       "    .dataframe thead th {\n",
       "        text-align: right;\n",
       "    }\n",
       "</style>\n",
       "<table border=\"1\" class=\"dataframe\">\n",
       "  <thead>\n",
       "    <tr style=\"text-align: right;\">\n",
       "      <th></th>\n",
       "      <th>keyword_to_page_ratio</th>\n",
       "      <th>development_to_page_ratio</th>\n",
       "      <th>implementation_to_page_ratio</th>\n",
       "      <th>challenges_to_page_ratio</th>\n",
       "      <th>risks_to_page_ratio</th>\n",
       "    </tr>\n",
       "  </thead>\n",
       "  <tbody>\n",
       "    <tr>\n",
       "      <th>0.250</th>\n",
       "      <td>6.534125</td>\n",
       "      <td>2.534125</td>\n",
       "      <td>1.300000</td>\n",
       "      <td>0.100000</td>\n",
       "      <td>0.25000</td>\n",
       "    </tr>\n",
       "    <tr>\n",
       "      <th>0.500</th>\n",
       "      <td>8.700000</td>\n",
       "      <td>4.666700</td>\n",
       "      <td>2.500000</td>\n",
       "      <td>0.261350</td>\n",
       "      <td>0.68335</td>\n",
       "    </tr>\n",
       "    <tr>\n",
       "      <th>0.750</th>\n",
       "      <td>13.500000</td>\n",
       "      <td>7.874975</td>\n",
       "      <td>5.031250</td>\n",
       "      <td>0.800000</td>\n",
       "      <td>1.33330</td>\n",
       "    </tr>\n",
       "    <tr>\n",
       "      <th>0.900</th>\n",
       "      <td>20.513650</td>\n",
       "      <td>12.000000</td>\n",
       "      <td>8.830000</td>\n",
       "      <td>1.430000</td>\n",
       "      <td>3.20907</td>\n",
       "    </tr>\n",
       "    <tr>\n",
       "      <th>0.990</th>\n",
       "      <td>40.472936</td>\n",
       "      <td>27.686474</td>\n",
       "      <td>22.263806</td>\n",
       "      <td>3.673671</td>\n",
       "      <td>7.04200</td>\n",
       "    </tr>\n",
       "    <tr>\n",
       "      <th>0.995</th>\n",
       "      <td>47.232332</td>\n",
       "      <td>32.932235</td>\n",
       "      <td>23.224542</td>\n",
       "      <td>4.214364</td>\n",
       "      <td>10.19500</td>\n",
       "    </tr>\n",
       "  </tbody>\n",
       "</table>\n",
       "</div>"
      ],
      "text/plain": [
       "       keyword_to_page_ratio  development_to_page_ratio  \\\n",
       "0.250               6.534125                   2.534125   \n",
       "0.500               8.700000                   4.666700   \n",
       "0.750              13.500000                   7.874975   \n",
       "0.900              20.513650                  12.000000   \n",
       "0.990              40.472936                  27.686474   \n",
       "0.995              47.232332                  32.932235   \n",
       "\n",
       "       implementation_to_page_ratio  challenges_to_page_ratio  \\\n",
       "0.250                      1.300000                  0.100000   \n",
       "0.500                      2.500000                  0.261350   \n",
       "0.750                      5.031250                  0.800000   \n",
       "0.900                      8.830000                  1.430000   \n",
       "0.990                     22.263806                  3.673671   \n",
       "0.995                     23.224542                  4.214364   \n",
       "\n",
       "       risks_to_page_ratio  \n",
       "0.250              0.25000  \n",
       "0.500              0.68335  \n",
       "0.750              1.33330  \n",
       "0.900              3.20907  \n",
       "0.990              7.04200  \n",
       "0.995             10.19500  "
      ]
     },
     "execution_count": 35,
     "metadata": {},
     "output_type": "execute_result"
    }
   ],
   "source": [
    "df[['keyword_to_page_ratio', 'development_to_page_ratio', 'implementation_to_page_ratio',\n",
    "       'challenges_to_page_ratio', 'risks_to_page_ratio']].quantile([0.25, 0.5 ,0.75, 0.9, 0.99, 0.995])"
   ]
  },
  {
   "cell_type": "code",
   "execution_count": 38,
   "id": "72c6cd62-ae6b-41f0-ba45-187b1b871225",
   "metadata": {},
   "outputs": [
    {
     "data": {
      "text/plain": [
       "(8.7, 11.585900531914893, 47.23233249999993)"
      ]
     },
     "execution_count": 38,
     "metadata": {},
     "output_type": "execute_result"
    }
   ],
   "source": [
    "upper_limit = df.keyword_to_page_ratio.quantile(0.995)\n",
    "mean = df.keyword_to_page_ratio.mean()\n",
    "median = df.keyword_to_page_ratio.median()\n",
    "median, mean, upper_limit"
   ]
  },
  {
   "cell_type": "code",
   "execution_count": 39,
   "id": "1d21fa33-b250-4a99-9631-9a0d91e49aef",
   "metadata": {},
   "outputs": [
    {
     "data": {
      "text/plain": [
       "60"
      ]
     },
     "execution_count": 39,
     "metadata": {},
     "output_type": "execute_result"
    }
   ],
   "source": [
    "len(df[(df.keyword_to_page_ratio>mean) & (df.keyword_to_page_ratio<upper_limit)])"
   ]
  },
  {
   "cell_type": "code",
   "execution_count": 16,
   "id": "ad70cd65-5111-48de-86c7-d517a0bcef78",
   "metadata": {},
   "outputs": [
    {
     "data": {
      "text/plain": [
       "(4.6667, 6.0882, 32.9322355)"
      ]
     },
     "execution_count": 16,
     "metadata": {},
     "output_type": "execute_result"
    }
   ],
   "source": [
    "upper_limit = df.development_to_page_ratio.quantile(0.995)\n",
    "mean = df.development_to_page_ratio.mean()\n",
    "median = df.development_to_page_ratio.median()\n",
    "median, mean, upper_limit"
   ]
  },
  {
   "cell_type": "code",
   "execution_count": 17,
   "id": "42e8649c-20e8-49f2-afbf-871a4d448535",
   "metadata": {},
   "outputs": [
    {
     "data": {
      "text/plain": [
       "71"
      ]
     },
     "execution_count": 17,
     "metadata": {},
     "output_type": "execute_result"
    }
   ],
   "source": [
    "len(df[(df.development_to_page_ratio>mean) & (df.development_to_page_ratio<upper_limit)])"
   ]
  },
  {
   "cell_type": "code",
   "execution_count": 18,
   "id": "0b3da850-1b9c-4405-a4ba-917aa3e1a738",
   "metadata": {},
   "outputs": [
    {
     "data": {
      "text/plain": [
       "(2.5, 3.9524925531914885, 23.22454249999999)"
      ]
     },
     "execution_count": 18,
     "metadata": {},
     "output_type": "execute_result"
    }
   ],
   "source": [
    "upper_limit = df.implementation_to_page_ratio.quantile(0.995)\n",
    "mean = df.implementation_to_page_ratio.mean()\n",
    "median = df.implementation_to_page_ratio.median()\n",
    "median, mean, upper_limit"
   ]
  },
  {
   "cell_type": "code",
   "execution_count": 19,
   "id": "4025608f-ca94-45bd-888b-9b729f2dc922",
   "metadata": {},
   "outputs": [
    {
     "data": {
      "text/plain": [
       "65"
      ]
     },
     "execution_count": 19,
     "metadata": {},
     "output_type": "execute_result"
    }
   ],
   "source": [
    "len(df[(df.implementation_to_page_ratio>mean) & (df.implementation_to_page_ratio<upper_limit)])"
   ]
  },
  {
   "cell_type": "code",
   "execution_count": 20,
   "id": "e167faa6-4741-4330-ad27-3ede1e8aa1b3",
   "metadata": {},
   "outputs": [
    {
     "data": {
      "text/plain": [
       "(0.26134999999999997, 0.5706627659574469, 4.214364499999998)"
      ]
     },
     "execution_count": 20,
     "metadata": {},
     "output_type": "execute_result"
    }
   ],
   "source": [
    "upper_limit = df.challenges_to_page_ratio.quantile(0.995)\n",
    "mean = df.challenges_to_page_ratio.mean()\n",
    "median = df.challenges_to_page_ratio.median()\n",
    "median, mean, upper_limit"
   ]
  },
  {
   "cell_type": "code",
   "execution_count": 21,
   "id": "337cb442-3ea0-4905-8d5b-31dd453f6b06",
   "metadata": {},
   "outputs": [
    {
     "data": {
      "text/plain": [
       "55"
      ]
     },
     "execution_count": 21,
     "metadata": {},
     "output_type": "execute_result"
    }
   ],
   "source": [
    "len(df[(df.challenges_to_page_ratio>mean) & (df.challenges_to_page_ratio<upper_limit)])"
   ]
  },
  {
   "cell_type": "code",
   "execution_count": 22,
   "id": "680816b0-b75c-4533-8e89-ffbb0cea80a2",
   "metadata": {},
   "outputs": [
    {
     "data": {
      "text/plain": [
       "(0.6833499999999999, 1.2361228723404254, 10.194999999999993)"
      ]
     },
     "execution_count": 22,
     "metadata": {},
     "output_type": "execute_result"
    }
   ],
   "source": [
    "upper_limit = df.risks_to_page_ratio.quantile(0.995)\n",
    "mean = df.risks_to_page_ratio.mean()\n",
    "median = df.risks_to_page_ratio.median()\n",
    "median, mean, upper_limit"
   ]
  },
  {
   "cell_type": "code",
   "execution_count": 23,
   "id": "9019f409-73e5-4ef5-a26b-4936b5a74782",
   "metadata": {},
   "outputs": [
    {
     "data": {
      "text/plain": [
       "50"
      ]
     },
     "execution_count": 23,
     "metadata": {},
     "output_type": "execute_result"
    }
   ],
   "source": [
    "len(df[(df.risks_to_page_ratio>mean) & (df.risks_to_page_ratio<upper_limit)])"
   ]
  },
  {
   "cell_type": "code",
   "execution_count": null,
   "id": "187a8335-0ba7-48da-94d5-17a70a5aa9d7",
   "metadata": {},
   "outputs": [],
   "source": []
  },
  {
   "cell_type": "code",
   "execution_count": 40,
   "id": "7c3c4acb-0461-468a-966c-44567584d36f",
   "metadata": {},
   "outputs": [
    {
     "data": {
      "text/plain": [
       "60"
      ]
     },
     "execution_count": 40,
     "metadata": {},
     "output_type": "execute_result"
    }
   ],
   "source": [
    "len(df[(df.keyword_to_page_ratio>mean) & (df.keyword_to_page_ratio<upper_limit)])"
   ]
  },
  {
   "cell_type": "code",
   "execution_count": 41,
   "id": "d4169bcc-c653-41e6-9d72-557259598901",
   "metadata": {},
   "outputs": [],
   "source": [
    "df = df[(df.keyword_to_page_ratio>mean) & (df.keyword_to_page_ratio<upper_limit)]"
   ]
  },
  {
   "cell_type": "code",
   "execution_count": 42,
   "id": "52cace54-b887-4690-9c15-a3d56644e580",
   "metadata": {},
   "outputs": [],
   "source": [
    "df = df.reset_index().rename(columns={'index': 'filename'})"
   ]
  },
  {
   "cell_type": "code",
   "execution_count": null,
   "id": "1b108286-8471-46d8-a174-688df4df3afa",
   "metadata": {},
   "outputs": [],
   "source": []
  },
  {
   "cell_type": "code",
   "execution_count": 57,
   "id": "4c091e7f-515f-4ff1-a39b-12c1f5f16803",
   "metadata": {},
   "outputs": [],
   "source": [
    "import glob\n",
    "import shutil"
   ]
  },
  {
   "cell_type": "code",
   "execution_count": 62,
   "id": "2a282a84-b033-47e2-a42e-c2413258f837",
   "metadata": {
    "tags": []
   },
   "outputs": [],
   "source": [
    "import os"
   ]
  },
  {
   "cell_type": "code",
   "execution_count": 65,
   "id": "de5e53aa-90a8-4884-8ef1-32f9e7575e37",
   "metadata": {},
   "outputs": [
    {
     "name": "stdout",
     "output_type": "stream",
     "text": [
      "978-3-642-35506-6_5.pdf\n",
      "AGI_development2.pdf\n",
      "AGI_ethics3.pdf\n",
      "AGI_ethics2.pdf\n",
      "paper_39-2.pdf\n",
      "AGI_development3.pdf\n",
      "AGI_development1.pdf\n",
      "AGI_research12.pdf\n",
      "AGI_society10.pdf\n",
      "AGI_research13.pdf\n",
      "AGI_development4.pdf\n",
      "AGI_development5.pdf\n",
      "AGI_research14.pdf\n",
      "AGI_society2.pdf\n",
      "AGI_society3.pdf\n",
      "paper_61-2.pdf\n",
      "paper_24-2.pdf\n",
      "978-3-319-21365-1_40.pdf\n",
      "978-3-319-21365-1_5.pdf\n",
      "AGI_research3.pdf\n",
      "978-3-319-09274-4_21.pdf\n",
      "AGI_research2.pdf\n",
      "978-3-030-93758-4_33.pdf\n",
      "AGI_research48.pdf\n",
      "paper_9-2.pdf\n",
      "AGI_research4.pdf\n",
      "paper_59.pdf\n",
      "978-3-319-09274-4_25.pdf\n",
      "AGI_research7.pdf\n",
      "AGI_ethics15.pdf\n",
      "978-3-319-09274-4_1.pdf\n",
      "AGI_research47.pdf\n",
      "AGI_research46.pdf\n",
      "paper_54.pdf\n",
      "AGI_research45.pdf\n",
      "AGI_ethics.pdf\n",
      "978-3-642-22887-2_24.pdf\n",
      "AGI_research41.pdf\n",
      "978-3-642-39521-5_19.pdf\n",
      "978-3-642-39521-5_18.pdf\n",
      "AGI_research.pdf\n",
      "s41599-020-0494-4.pdf\n",
      "paper_12-3.pdf\n",
      "AGI_research43.pdf\n",
      "paper_53.pdf\n",
      "paper_20.pdf\n",
      "978-3-030-93758-4_2.pdf\n",
      "AGI_research18.pdf\n",
      "AGI_research19.pdf\n",
      "978-3-642-22887-2_50.pdf\n",
      "978-3-319-41649-6_6.pdf\n",
      "978-3-319-97676-1_23.pdf\n",
      "AGI_development.pdf\n",
      "paper_56-2.pdf\n",
      "paper_37-2.pdf\n",
      "paper_33.pdf\n",
      "paper_19.pdf\n",
      "AGI_research20.pdf\n",
      "paper_18.pdf\n",
      "AGI_development32.pdf\n"
     ]
    }
   ],
   "source": [
    "for filename in df['filename'].tolist():\n",
    "    print(filename)\n",
    "    shutil.copy(f'papers/{filename}', f'selected_papers/')"
   ]
  },
  {
   "cell_type": "code",
   "execution_count": null,
   "id": "2bb78a8b-3e80-4617-a7a7-1c616413ca5b",
   "metadata": {},
   "outputs": [],
   "source": []
  },
  {
   "cell_type": "code",
   "execution_count": null,
   "id": "8144d051-4021-4dcd-85de-f8b223b66139",
   "metadata": {},
   "outputs": [],
   "source": []
  },
  {
   "cell_type": "code",
   "execution_count": 46,
   "id": "7eb32e70-16e9-463b-b996-321fb2f68edd",
   "metadata": {},
   "outputs": [
    {
     "data": {
      "text/plain": [
       "(6.354150000000001, 8.245298333333333, 33.358923499999996)"
      ]
     },
     "execution_count": 46,
     "metadata": {},
     "output_type": "execute_result"
    }
   ],
   "source": [
    "upper_limit = df.development_to_page_ratio.quantile(0.995)\n",
    "mean = df.development_to_page_ratio.mean()\n",
    "median = df.development_to_page_ratio.median()\n",
    "median, mean, upper_limit"
   ]
  },
  {
   "cell_type": "code",
   "execution_count": null,
   "id": "eb9ffce6-7c48-49dd-b0c0-9941722638fd",
   "metadata": {},
   "outputs": [
    {
     "data": {
      "text/plain": [
       "24"
      ]
     },
     "execution_count": 47,
     "metadata": {},
     "output_type": "execute_result"
    }
   ],
   "source": [
    "len(df[(df.development_to_page_ratio>mean) & (df.development_to_page_ratio<upper_limit)])"
   ]
  },
  {
   "cell_type": "code",
   "execution_count": null,
   "id": "68a7def9-9d2d-4b70-876b-5beb26898fdc",
   "metadata": {},
   "outputs": [
    {
     "data": {
      "text/plain": [
       "(3.1111, 5.039483333333333, 25.185793499999992)"
      ]
     },
     "execution_count": 48,
     "metadata": {},
     "output_type": "execute_result"
    }
   ],
   "source": [
    "upper_limit = df.implementation_to_page_ratio.quantile(0.995)\n",
    "mean = df.implementation_to_page_ratio.mean()\n",
    "median = df.implementation_to_page_ratio.median()\n",
    "median, mean, upper_limit"
   ]
  },
  {
   "cell_type": "code",
   "execution_count": null,
   "id": "2370a560-7de9-4b20-ab8d-b2b99be80aa3",
   "metadata": {},
   "outputs": [
    {
     "data": {
      "text/plain": [
       "19"
      ]
     },
     "execution_count": 49,
     "metadata": {},
     "output_type": "execute_result"
    }
   ],
   "source": [
    "len(df[(df.implementation_to_page_ratio>mean) & (df.implementation_to_page_ratio<upper_limit)])"
   ]
  },
  {
   "cell_type": "code",
   "execution_count": null,
   "id": "7b93e7f6-37c9-4dfd-a5cd-68d4c11092ce",
   "metadata": {},
   "outputs": [
    {
     "data": {
      "text/plain": [
       "(0.5, 0.833025, 4.683676499999999)"
      ]
     },
     "execution_count": 50,
     "metadata": {},
     "output_type": "execute_result"
    }
   ],
   "source": [
    "upper_limit = df.challenges_to_page_ratio.quantile(0.995)\n",
    "mean = df.challenges_to_page_ratio.mean()\n",
    "median = df.challenges_to_page_ratio.median()\n",
    "median, mean, upper_limit"
   ]
  },
  {
   "cell_type": "code",
   "execution_count": null,
   "id": "4aca8c87-4fcc-4d39-88cd-3b2cfad59536",
   "metadata": {},
   "outputs": [
    {
     "data": {
      "text/plain": [
       "19"
      ]
     },
     "execution_count": 51,
     "metadata": {},
     "output_type": "execute_result"
    }
   ],
   "source": [
    "len(df[(df.challenges_to_page_ratio>mean) & (df.challenges_to_page_ratio<upper_limit)])"
   ]
  },
  {
   "cell_type": "code",
   "execution_count": null,
   "id": "30c286c9-2954-4c62-89ef-b700783fc64e",
   "metadata": {},
   "outputs": [
    {
     "data": {
      "text/plain": [
       "(0.71825, 1.6897666666666666, 12.114999999999995)"
      ]
     },
     "execution_count": 52,
     "metadata": {},
     "output_type": "execute_result"
    }
   ],
   "source": [
    "upper_limit = df.risks_to_page_ratio.quantile(0.995)\n",
    "mean = df.risks_to_page_ratio.mean()\n",
    "median = df.risks_to_page_ratio.median()\n",
    "median, mean, upper_limit"
   ]
  },
  {
   "cell_type": "code",
   "execution_count": null,
   "id": "c2b4ddff-c7ff-4766-9186-86a73917b70d",
   "metadata": {},
   "outputs": [
    {
     "data": {
      "text/plain": [
       "17"
      ]
     },
     "execution_count": 53,
     "metadata": {},
     "output_type": "execute_result"
    }
   ],
   "source": [
    "len(df[(df.risks_to_page_ratio>mean) & (df.risks_to_page_ratio<upper_limit)])"
   ]
  },
  {
   "cell_type": "code",
   "execution_count": null,
   "id": "d66bf9c2-a937-4369-9908-c9492b3cf165",
   "metadata": {},
   "outputs": [],
   "source": []
  },
  {
   "cell_type": "code",
   "execution_count": null,
   "id": "fad93431-f423-42b1-a54d-8d542535c4e7",
   "metadata": {},
   "outputs": [],
   "source": [
    "# tf idf"
   ]
  },
  {
   "cell_type": "code",
   "execution_count": null,
   "id": "bfe950c0-5c2c-490c-bef5-d443b1537a53",
   "metadata": {},
   "outputs": [
    {
     "data": {
      "text/html": [
       "<div>\n",
       "<style scoped>\n",
       "    .dataframe tbody tr th:only-of-type {\n",
       "        vertical-align: middle;\n",
       "    }\n",
       "\n",
       "    .dataframe tbody tr th {\n",
       "        vertical-align: top;\n",
       "    }\n",
       "\n",
       "    .dataframe thead th {\n",
       "        text-align: right;\n",
       "    }\n",
       "</style>\n",
       "<table border=\"1\" class=\"dataframe\">\n",
       "  <thead>\n",
       "    <tr style=\"text-align: right;\">\n",
       "      <th></th>\n",
       "      <th>keywords</th>\n",
       "    </tr>\n",
       "  </thead>\n",
       "  <tbody>\n",
       "    <tr>\n",
       "      <th>2981</th>\n",
       "      <td>functionalities</td>\n",
       "    </tr>\n",
       "    <tr>\n",
       "      <th>2450</th>\n",
       "      <td>established</td>\n",
       "    </tr>\n",
       "    <tr>\n",
       "      <th>3540</th>\n",
       "      <td>surfaces</td>\n",
       "    </tr>\n",
       "    <tr>\n",
       "      <th>417</th>\n",
       "      <td>constrains</td>\n",
       "    </tr>\n",
       "    <tr>\n",
       "      <th>330</th>\n",
       "      <td>grow</td>\n",
       "    </tr>\n",
       "    <tr>\n",
       "      <th>166</th>\n",
       "      <td>realized</td>\n",
       "    </tr>\n",
       "    <tr>\n",
       "      <th>2547</th>\n",
       "      <td>woman</td>\n",
       "    </tr>\n",
       "    <tr>\n",
       "      <th>1735</th>\n",
       "      <td>power</td>\n",
       "    </tr>\n",
       "    <tr>\n",
       "      <th>1570</th>\n",
       "      <td>ascertain</td>\n",
       "    </tr>\n",
       "    <tr>\n",
       "      <th>386</th>\n",
       "      <td>functioning</td>\n",
       "    </tr>\n",
       "    <tr>\n",
       "      <th>1737</th>\n",
       "      <td>perception</td>\n",
       "    </tr>\n",
       "    <tr>\n",
       "      <th>1243</th>\n",
       "      <td>bliss</td>\n",
       "    </tr>\n",
       "    <tr>\n",
       "      <th>3788</th>\n",
       "      <td>procedural</td>\n",
       "    </tr>\n",
       "    <tr>\n",
       "      <th>2568</th>\n",
       "      <td>seems</td>\n",
       "    </tr>\n",
       "    <tr>\n",
       "      <th>1365</th>\n",
       "      <td>learn</td>\n",
       "    </tr>\n",
       "    <tr>\n",
       "      <th>3685</th>\n",
       "      <td>keepin</td>\n",
       "    </tr>\n",
       "    <tr>\n",
       "      <th>2308</th>\n",
       "      <td>airs</td>\n",
       "    </tr>\n",
       "    <tr>\n",
       "      <th>2986</th>\n",
       "      <td>separat</td>\n",
       "    </tr>\n",
       "    <tr>\n",
       "      <th>331</th>\n",
       "      <td>ptualization</td>\n",
       "    </tr>\n",
       "    <tr>\n",
       "      <th>1382</th>\n",
       "      <td>references</td>\n",
       "    </tr>\n",
       "    <tr>\n",
       "      <th>2530</th>\n",
       "      <td>not</td>\n",
       "    </tr>\n",
       "    <tr>\n",
       "      <th>1173</th>\n",
       "      <td>schan</td>\n",
       "    </tr>\n",
       "    <tr>\n",
       "      <th>403</th>\n",
       "      <td>provide</td>\n",
       "    </tr>\n",
       "    <tr>\n",
       "      <th>1092</th>\n",
       "      <td>elasticity</td>\n",
       "    </tr>\n",
       "    <tr>\n",
       "      <th>906</th>\n",
       "      <td>states</td>\n",
       "    </tr>\n",
       "  </tbody>\n",
       "</table>\n",
       "</div>"
      ],
      "text/plain": [
       "             keywords\n",
       "2981  functionalities\n",
       "2450      established\n",
       "3540         surfaces\n",
       "417        constrains\n",
       "330              grow\n",
       "166          realized\n",
       "2547            woman\n",
       "1735            power\n",
       "1570        ascertain\n",
       "386       functioning\n",
       "1737       perception\n",
       "1243            bliss\n",
       "3788       procedural\n",
       "2568            seems\n",
       "1365            learn\n",
       "3685           keepin\n",
       "2308             airs\n",
       "2986          separat\n",
       "331      ptualization\n",
       "1382       references\n",
       "2530              not\n",
       "1173            schan\n",
       "403           provide\n",
       "1092       elasticity\n",
       "906            states"
      ]
     },
     "execution_count": 73,
     "metadata": {},
     "output_type": "execute_result"
    }
   ],
   "source": [
    "df.sample(25)"
   ]
  },
  {
   "cell_type": "code",
   "execution_count": null,
   "id": "579a043e-3407-4699-b531-7dbdf9158b64",
   "metadata": {},
   "outputs": [],
   "source": []
  },
  {
   "cell_type": "code",
   "execution_count": null,
   "id": "5ec50d06-0b50-47ce-adc6-0d3448927598",
   "metadata": {},
   "outputs": [
    {
     "data": {
      "text/html": [
       "<div>\n",
       "<style scoped>\n",
       "    .dataframe tbody tr th:only-of-type {\n",
       "        vertical-align: middle;\n",
       "    }\n",
       "\n",
       "    .dataframe tbody tr th {\n",
       "        vertical-align: top;\n",
       "    }\n",
       "\n",
       "    .dataframe thead th {\n",
       "        text-align: right;\n",
       "    }\n",
       "</style>\n",
       "<table border=\"1\" class=\"dataframe\">\n",
       "  <thead>\n",
       "    <tr style=\"text-align: right;\">\n",
       "      <th></th>\n",
       "      <th>keywords</th>\n",
       "      <th>number_of_times_word_appeared</th>\n",
       "      <th>tf</th>\n",
       "      <th>idf</th>\n",
       "      <th>tf_idf</th>\n",
       "    </tr>\n",
       "  </thead>\n",
       "  <tbody>\n",
       "    <tr>\n",
       "      <th>662</th>\n",
       "      <td>ai</td>\n",
       "      <td>781</td>\n",
       "      <td>0.002882</td>\n",
       "      <td>-5.660575</td>\n",
       "      <td>-0.016314</td>\n",
       "    </tr>\n",
       "    <tr>\n",
       "      <th>2240</th>\n",
       "      <td>general</td>\n",
       "      <td>96</td>\n",
       "      <td>0.000354</td>\n",
       "      <td>-3.564348</td>\n",
       "      <td>-0.001263</td>\n",
       "    </tr>\n",
       "    <tr>\n",
       "      <th>393</th>\n",
       "      <td>artificial</td>\n",
       "      <td>38</td>\n",
       "      <td>0.000140</td>\n",
       "      <td>-2.637586</td>\n",
       "      <td>-0.000370</td>\n",
       "    </tr>\n",
       "    <tr>\n",
       "      <th>1455</th>\n",
       "      <td>intelligence</td>\n",
       "      <td>38</td>\n",
       "      <td>0.000140</td>\n",
       "      <td>-2.637586</td>\n",
       "      <td>-0.000370</td>\n",
       "    </tr>\n",
       "    <tr>\n",
       "      <th>2250</th>\n",
       "      <td>agi</td>\n",
       "      <td>9</td>\n",
       "      <td>0.000033</td>\n",
       "      <td>-1.197225</td>\n",
       "      <td>-0.000040</td>\n",
       "    </tr>\n",
       "  </tbody>\n",
       "</table>\n",
       "</div>"
      ],
      "text/plain": [
       "          keywords  number_of_times_word_appeared        tf       idf  \\\n",
       "662             ai                            781  0.002882 -5.660575   \n",
       "2240       general                             96  0.000354 -3.564348   \n",
       "393     artificial                             38  0.000140 -2.637586   \n",
       "1455  intelligence                             38  0.000140 -2.637586   \n",
       "2250           agi                              9  0.000033 -1.197225   \n",
       "\n",
       "        tf_idf  \n",
       "662  -0.016314  \n",
       "2240 -0.001263  \n",
       "393  -0.000370  \n",
       "1455 -0.000370  \n",
       "2250 -0.000040  "
      ]
     },
     "execution_count": 82,
     "metadata": {},
     "output_type": "execute_result"
    }
   ],
   "source": [
    "df[df.keywords.isin(keywords)]"
   ]
  },
  {
   "cell_type": "code",
   "execution_count": null,
   "id": "383418e7-10a0-4911-b65c-b6453c75f2f2",
   "metadata": {},
   "outputs": [
    {
     "data": {
      "text/plain": [
       "(3797, 1)"
      ]
     },
     "execution_count": 76,
     "metadata": {},
     "output_type": "execute_result"
    }
   ],
   "source": [
    "df.shape"
   ]
  },
  {
   "cell_type": "code",
   "execution_count": null,
   "id": "c6877fcf-c69e-4d3a-aa7a-2c4172eedc86",
   "metadata": {},
   "outputs": [
    {
     "data": {
      "text/html": [
       "<div>\n",
       "<style scoped>\n",
       "    .dataframe tbody tr th:only-of-type {\n",
       "        vertical-align: middle;\n",
       "    }\n",
       "\n",
       "    .dataframe tbody tr th {\n",
       "        vertical-align: top;\n",
       "    }\n",
       "\n",
       "    .dataframe thead th {\n",
       "        text-align: right;\n",
       "    }\n",
       "</style>\n",
       "<table border=\"1\" class=\"dataframe\">\n",
       "  <thead>\n",
       "    <tr style=\"text-align: right;\">\n",
       "      <th></th>\n",
       "      <th>keywords</th>\n",
       "      <th>number_of_times_word_appeared</th>\n",
       "      <th>tf</th>\n",
       "      <th>idf</th>\n",
       "      <th>tf_idf</th>\n",
       "    </tr>\n",
       "  </thead>\n",
       "  <tbody>\n",
       "    <tr>\n",
       "      <th>2495</th>\n",
       "      <td>th</td>\n",
       "      <td>5227</td>\n",
       "      <td>0.019289</td>\n",
       "      <td>-7.561593</td>\n",
       "      <td>-0.145856</td>\n",
       "    </tr>\n",
       "    <tr>\n",
       "      <th>3516</th>\n",
       "      <td>on</td>\n",
       "      <td>4447</td>\n",
       "      <td>0.016411</td>\n",
       "      <td>-7.399985</td>\n",
       "      <td>-0.121438</td>\n",
       "    </tr>\n",
       "    <tr>\n",
       "      <th>1167</th>\n",
       "      <td>in</td>\n",
       "      <td>4266</td>\n",
       "      <td>0.015743</td>\n",
       "      <td>-7.358432</td>\n",
       "      <td>-0.115841</td>\n",
       "    </tr>\n",
       "    <tr>\n",
       "      <th>239</th>\n",
       "      <td>he</td>\n",
       "      <td>4069</td>\n",
       "      <td>0.015016</td>\n",
       "      <td>-7.311153</td>\n",
       "      <td>-0.109782</td>\n",
       "    </tr>\n",
       "    <tr>\n",
       "      <th>2809</th>\n",
       "      <td>the</td>\n",
       "      <td>3680</td>\n",
       "      <td>0.013580</td>\n",
       "      <td>-7.210668</td>\n",
       "      <td>-0.097922</td>\n",
       "    </tr>\n",
       "    <tr>\n",
       "      <th>1275</th>\n",
       "      <td>re</td>\n",
       "      <td>3428</td>\n",
       "      <td>0.012650</td>\n",
       "      <td>-7.139732</td>\n",
       "      <td>-0.090319</td>\n",
       "    </tr>\n",
       "    <tr>\n",
       "      <th>2927</th>\n",
       "      <td>an</td>\n",
       "      <td>3012</td>\n",
       "      <td>0.011115</td>\n",
       "      <td>-7.010360</td>\n",
       "      <td>-0.077921</td>\n",
       "    </tr>\n",
       "    <tr>\n",
       "      <th>1738</th>\n",
       "      <td>at</td>\n",
       "      <td>2858</td>\n",
       "      <td>0.010547</td>\n",
       "      <td>-6.957877</td>\n",
       "      <td>-0.073383</td>\n",
       "    </tr>\n",
       "    <tr>\n",
       "      <th>2634</th>\n",
       "      <td>er</td>\n",
       "      <td>2691</td>\n",
       "      <td>0.009931</td>\n",
       "      <td>-6.897668</td>\n",
       "      <td>-0.068497</td>\n",
       "    </tr>\n",
       "    <tr>\n",
       "      <th>115</th>\n",
       "      <td>en</td>\n",
       "      <td>2566</td>\n",
       "      <td>0.009469</td>\n",
       "      <td>-6.850104</td>\n",
       "      <td>-0.064865</td>\n",
       "    </tr>\n",
       "    <tr>\n",
       "      <th>1234</th>\n",
       "      <td>ion</td>\n",
       "      <td>2436</td>\n",
       "      <td>0.008989</td>\n",
       "      <td>-6.798113</td>\n",
       "      <td>-0.061112</td>\n",
       "    </tr>\n",
       "    <tr>\n",
       "      <th>3628</th>\n",
       "      <td>es</td>\n",
       "      <td>2384</td>\n",
       "      <td>0.008798</td>\n",
       "      <td>-6.776535</td>\n",
       "      <td>-0.059617</td>\n",
       "    </tr>\n",
       "    <tr>\n",
       "      <th>3365</th>\n",
       "      <td>tion</td>\n",
       "      <td>2247</td>\n",
       "      <td>0.008292</td>\n",
       "      <td>-6.717351</td>\n",
       "      <td>-0.055700</td>\n",
       "    </tr>\n",
       "    <tr>\n",
       "      <th>2998</th>\n",
       "      <td>al</td>\n",
       "      <td>2174</td>\n",
       "      <td>0.008023</td>\n",
       "      <td>-6.684324</td>\n",
       "      <td>-0.053626</td>\n",
       "    </tr>\n",
       "    <tr>\n",
       "      <th>698</th>\n",
       "      <td>or</td>\n",
       "      <td>2164</td>\n",
       "      <td>0.007986</td>\n",
       "      <td>-6.679714</td>\n",
       "      <td>-0.053342</td>\n",
       "    </tr>\n",
       "    <tr>\n",
       "      <th>2477</th>\n",
       "      <td>se</td>\n",
       "      <td>2068</td>\n",
       "      <td>0.007631</td>\n",
       "      <td>-6.634337</td>\n",
       "      <td>-0.050630</td>\n",
       "    </tr>\n",
       "    <tr>\n",
       "      <th>2518</th>\n",
       "      <td>nt</td>\n",
       "      <td>2034</td>\n",
       "      <td>0.007506</td>\n",
       "      <td>-6.617760</td>\n",
       "      <td>-0.049673</td>\n",
       "    </tr>\n",
       "    <tr>\n",
       "      <th>215</th>\n",
       "      <td>nd</td>\n",
       "      <td>2031</td>\n",
       "      <td>0.007495</td>\n",
       "      <td>-6.616284</td>\n",
       "      <td>-0.049589</td>\n",
       "    </tr>\n",
       "    <tr>\n",
       "      <th>2846</th>\n",
       "      <td>te</td>\n",
       "      <td>1846</td>\n",
       "      <td>0.006812</td>\n",
       "      <td>-6.520776</td>\n",
       "      <td>-0.044421</td>\n",
       "    </tr>\n",
       "    <tr>\n",
       "      <th>1614</th>\n",
       "      <td>of</td>\n",
       "      <td>1839</td>\n",
       "      <td>0.006786</td>\n",
       "      <td>-6.516977</td>\n",
       "      <td>-0.044227</td>\n",
       "    </tr>\n",
       "    <tr>\n",
       "      <th>2368</th>\n",
       "      <td>ct</td>\n",
       "      <td>1744</td>\n",
       "      <td>0.006436</td>\n",
       "      <td>-6.463937</td>\n",
       "      <td>-0.041601</td>\n",
       "    </tr>\n",
       "    <tr>\n",
       "      <th>1213</th>\n",
       "      <td>ng</td>\n",
       "      <td>1736</td>\n",
       "      <td>0.006406</td>\n",
       "      <td>-6.459339</td>\n",
       "      <td>-0.041381</td>\n",
       "    </tr>\n",
       "    <tr>\n",
       "      <th>0</th>\n",
       "      <td>is</td>\n",
       "      <td>1702</td>\n",
       "      <td>0.006281</td>\n",
       "      <td>-6.439559</td>\n",
       "      <td>-0.040446</td>\n",
       "    </tr>\n",
       "    <tr>\n",
       "      <th>1454</th>\n",
       "      <td>co</td>\n",
       "      <td>1664</td>\n",
       "      <td>0.006141</td>\n",
       "      <td>-6.416980</td>\n",
       "      <td>-0.039404</td>\n",
       "    </tr>\n",
       "    <tr>\n",
       "      <th>1430</th>\n",
       "      <td>ed</td>\n",
       "      <td>1634</td>\n",
       "      <td>0.006030</td>\n",
       "      <td>-6.398786</td>\n",
       "      <td>-0.038584</td>\n",
       "    </tr>\n",
       "  </tbody>\n",
       "</table>\n",
       "</div>"
      ],
      "text/plain": [
       "     keywords  number_of_times_word_appeared        tf       idf    tf_idf\n",
       "2495       th                           5227  0.019289 -7.561593 -0.145856\n",
       "3516       on                           4447  0.016411 -7.399985 -0.121438\n",
       "1167       in                           4266  0.015743 -7.358432 -0.115841\n",
       "239        he                           4069  0.015016 -7.311153 -0.109782\n",
       "2809      the                           3680  0.013580 -7.210668 -0.097922\n",
       "1275       re                           3428  0.012650 -7.139732 -0.090319\n",
       "2927       an                           3012  0.011115 -7.010360 -0.077921\n",
       "1738       at                           2858  0.010547 -6.957877 -0.073383\n",
       "2634       er                           2691  0.009931 -6.897668 -0.068497\n",
       "115        en                           2566  0.009469 -6.850104 -0.064865\n",
       "1234      ion                           2436  0.008989 -6.798113 -0.061112\n",
       "3628       es                           2384  0.008798 -6.776535 -0.059617\n",
       "3365     tion                           2247  0.008292 -6.717351 -0.055700\n",
       "2998       al                           2174  0.008023 -6.684324 -0.053626\n",
       "698        or                           2164  0.007986 -6.679714 -0.053342\n",
       "2477       se                           2068  0.007631 -6.634337 -0.050630\n",
       "2518       nt                           2034  0.007506 -6.617760 -0.049673\n",
       "215        nd                           2031  0.007495 -6.616284 -0.049589\n",
       "2846       te                           1846  0.006812 -6.520776 -0.044421\n",
       "1614       of                           1839  0.006786 -6.516977 -0.044227\n",
       "2368       ct                           1744  0.006436 -6.463937 -0.041601\n",
       "1213       ng                           1736  0.006406 -6.459339 -0.041381\n",
       "0          is                           1702  0.006281 -6.439559 -0.040446\n",
       "1454       co                           1664  0.006141 -6.416980 -0.039404\n",
       "1430       ed                           1634  0.006030 -6.398786 -0.038584"
      ]
     },
     "execution_count": 79,
     "metadata": {},
     "output_type": "execute_result"
    }
   ],
   "source": [
    "\n",
    "def weightage(word,text,number_of_documents=1):\n",
    "    word_list = re.findall(word,text_decoded)\n",
    "    number_of_times_word_appeared =len(word_list)\n",
    "    tf = number_of_times_word_appeared/float(len(text_decoded))\n",
    "    idf = 1 + np.log((number_of_documents)/float(number_of_times_word_appeared))\n",
    "    tf_idf = tf*idf\n",
    "    return number_of_times_word_appeared,tf,idf ,tf_idf \n",
    "    \n",
    "df['number_of_times_word_appeared'] = df['keywords'].apply(lambda x: weightage(x,text)[0])\n",
    "df['tf'] = df['keywords'].apply(lambda x: weightage(x,text)[1])\n",
    "df['idf'] = df['keywords'].apply(lambda x: weightage(x,text)[2])\n",
    "df['tf_idf'] = df['keywords'].apply(lambda x: weightage(x,text)[3])\n",
    "\n",
    "df = df.sort_values('tf_idf',ascending=True)\n",
    "df.head(25)"
   ]
  },
  {
   "cell_type": "code",
   "execution_count": 80,
   "id": "c7bcc243-aae9-4483-8376-c7e444847ac3",
   "metadata": {},
   "outputs": [
    {
     "data": {
      "text/html": [
       "<div>\n",
       "<style scoped>\n",
       "    .dataframe tbody tr th:only-of-type {\n",
       "        vertical-align: middle;\n",
       "    }\n",
       "\n",
       "    .dataframe tbody tr th {\n",
       "        vertical-align: top;\n",
       "    }\n",
       "\n",
       "    .dataframe thead th {\n",
       "        text-align: right;\n",
       "    }\n",
       "</style>\n",
       "<table border=\"1\" class=\"dataframe\">\n",
       "  <thead>\n",
       "    <tr style=\"text-align: right;\">\n",
       "      <th></th>\n",
       "      <th>keywords</th>\n",
       "      <th>number_of_times_word_appeared</th>\n",
       "      <th>tf</th>\n",
       "      <th>idf</th>\n",
       "      <th>tf_idf</th>\n",
       "    </tr>\n",
       "  </thead>\n",
       "  <tbody>\n",
       "    <tr>\n",
       "      <th>662</th>\n",
       "      <td>ai</td>\n",
       "      <td>781</td>\n",
       "      <td>0.002882</td>\n",
       "      <td>-5.660575</td>\n",
       "      <td>-0.016314</td>\n",
       "    </tr>\n",
       "    <tr>\n",
       "      <th>2250</th>\n",
       "      <td>agi</td>\n",
       "      <td>9</td>\n",
       "      <td>0.000033</td>\n",
       "      <td>-1.197225</td>\n",
       "      <td>-0.000040</td>\n",
       "    </tr>\n",
       "  </tbody>\n",
       "</table>\n",
       "</div>"
      ],
      "text/plain": [
       "     keywords  number_of_times_word_appeared        tf       idf    tf_idf\n",
       "662        ai                            781  0.002882 -5.660575 -0.016314\n",
       "2250      agi                              9  0.000033 -1.197225 -0.000040"
      ]
     },
     "execution_count": 80,
     "metadata": {},
     "output_type": "execute_result"
    }
   ],
   "source": [
    "df[df.keywords.isin(keywords)]"
   ]
  },
  {
   "cell_type": "code",
   "execution_count": null,
   "id": "8f4d962d-8723-4374-a429-10c8ed8f6aae",
   "metadata": {},
   "outputs": [],
   "source": [
    "# df.to_csv('out_put.csv', index=False)"
   ]
  },
  {
   "cell_type": "code",
   "execution_count": null,
   "id": "57562694-4f4c-4d07-a3d3-0d0def0138dd",
   "metadata": {},
   "outputs": [],
   "source": []
  }
 ],
 "metadata": {
  "kernelspec": {
   "display_name": "Python 3 (ipykernel)",
   "language": "python",
   "name": "python3"
  },
  "language_info": {
   "codemirror_mode": {
    "name": "ipython",
    "version": 3
   },
   "file_extension": ".py",
   "mimetype": "text/x-python",
   "name": "python",
   "nbconvert_exporter": "python",
   "pygments_lexer": "ipython3",
   "version": "3.8.12"
  }
 },
 "nbformat": 4,
 "nbformat_minor": 5
}
